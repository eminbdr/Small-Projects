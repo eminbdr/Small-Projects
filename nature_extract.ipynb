{
 "cells": [
  {
   "cell_type": "code",
   "execution_count": 28,
   "metadata": {},
   "outputs": [
    {
     "name": "stdout",
     "output_type": "stream",
     "text": [
      "Scanned 11 out of 11 magazines\r"
     ]
    }
   ],
   "source": [
    "heading = '''<div style=\"border-top: 5px solid #000;\n",
    "border-bottom: 1px solid #000;\n",
    "padding-top: 8px;\n",
    "padding-bottom: 8px;\n",
    "margin-bottom: 24px;\n",
    "line-height: 1.4;\" data-test=\"title\">\n",
    "    <h2 class=\"u-ma-0\">{}</h2>\n",
    "</div>'''\n",
    "\n",
    "style = '''<head><style>\n",
    "    .u-full-height.c-card.c-card--flush{\n",
    "    display:inline-flex;\n",
    "    flex-flow:wrap;\n",
    "    }\n",
    "    li.app-article-list-row__item{display:flex;border:solid}\n",
    "    div.c-card__layout.u-full-height {\n",
    "        width: 100%;\n",
    "        justify-content: space-between;\n",
    "        display: flex;\n",
    "        flex-direction: row-reverse;\n",
    "    }\n",
    "    div.c-card__section.c-meta {flex: 0 0 230px;}\n",
    "  </style></head>'''\n",
    "\n",
    "import requests\n",
    "from bs4 import BeautifulSoup\n",
    "from bs4.element import Tag\n",
    "from datetime import datetime\n",
    "def write_html(date = datetime.today()):\n",
    "    class Article:\n",
    "        def __init__(self,html:Tag) -> None:\n",
    "            name_href = html.find(\"a\",{\"class\": \"c-card__link u-link-inherit\"})\n",
    "            self.name = name_href.text if name_href != None else \"\"\n",
    "            self.url = \"https://www.nature.com\"+ name_href.attrs[\"href\"] if name_href != None else \"\"\n",
    "            self.date = datetime.strptime(html.find(\"time\").attrs[\"datetime\"],'%Y-%m-%d')\n",
    "            self.magazine = html.find(\"span\",{\"class\": \"c-meta__type\"}).text\n",
    "            self.html = html\n",
    "            self.url = name_href.get(\"href\")\n",
    "            pass\n",
    "\n",
    "    journals = []\n",
    "    for journal in list((x if not x.startswith(\"#\") else 0 for x in open(\"MagToScan.txt\",\"r\",).readlines())):\n",
    "        if journal.startswith(\"$\"):\n",
    "            journals.append(journal[1:].removesuffix(\"\\n\"))\n",
    "\n",
    "    all_magazines = [r\"https://www.nature.com\"+journal+r\"research-articles\" for journal in journals]\n",
    "    articles_by_mags = {}\n",
    "    len_maga = len(all_magazines)\n",
    "    failed = []\n",
    "    for num,magazine in enumerate(all_magazines):\n",
    "        try:\n",
    "            mag_soup = BeautifulSoup(requests.get(magazine).content, 'html.parser')\n",
    "            articles_page = mag_soup.find_all(\"li\",{\"class\": \"app-article-list-row__item\"})\n",
    "            articles = [Article(article) for article in articles_page]\n",
    "            articles_by_mags.update({magazine.split(\"/\")[-2]: articles})\n",
    "            print(f\"Scanned {num+1} out of {len_maga} magazines\",end=\"\\r\")\n",
    "        except:\n",
    "            print(f\"Error with {magazine}\")\n",
    "            failed.append(magazine)\n",
    "            pass\n",
    "\n",
    "\n",
    "    base_url = \"https://www.nature.com\"\n",
    "    with open(\"index.html\", \"w+\", encoding=\"utf-8\") as file:\n",
    "        file.write(\"\")\n",
    "\n",
    "    with open(\"index.html\", \"a+\", encoding=\"utf-8\") as file:\n",
    "        file.write(\"<html>\")\n",
    "        file.write(style)\n",
    "        file.write(\"<body>\")\n",
    "        for num, (mag, articles) in enumerate(articles_by_mags.items()):\n",
    "            filtered_articles = list(filter(lambda x: x.date.date() >= date.date(), articles))\n",
    "            for num, article in enumerate(filtered_articles):\n",
    "                html_with_absolute_hrefs = str(article.html).replace('href=\"/', f'href=\"{base_url}/')\n",
    "                file.write(html_with_absolute_hrefs)\n",
    "        file.write(\"</body></html>\")\n",
    "\n",
    "write_html()"
   ]
  },
  {
   "cell_type": "code",
   "execution_count": 36,
   "metadata": {},
   "outputs": [
    {
     "data": {
      "text/plain": [
       "<Response [200]>"
      ]
     },
     "execution_count": 36,
     "metadata": {},
     "output_type": "execute_result"
    }
   ],
   "source": [
    "requests.get(\"https://www.nature.com/npjpcrm/research-articles\")"
   ]
  },
  {
   "cell_type": "code",
   "execution_count": 21,
   "metadata": {},
   "outputs": [
    {
     "ename": "NameError",
     "evalue": "name 'article' is not defined",
     "output_type": "error",
     "traceback": [
      "\u001b[1;31m---------------------------------------------------------------------------\u001b[0m",
      "\u001b[1;31mNameError\u001b[0m                                 Traceback (most recent call last)",
      "Cell \u001b[1;32mIn[21], line 1\u001b[0m\n\u001b[1;32m----> 1\u001b[0m \u001b[43marticle\u001b[49m\n",
      "\u001b[1;31mNameError\u001b[0m: name 'article' is not defined"
     ]
    }
   ],
   "source": [
    "article"
   ]
  },
  {
   "cell_type": "code",
   "execution_count": 40,
   "metadata": {},
   "outputs": [
    {
     "data": {
      "text/plain": [
       "['/cmi/',\n",
       " '/gt/',\n",
       " '/gene/',\n",
       " '/jhg/',\n",
       " '/mp/',\n",
       " '/nature/',\n",
       " '/nataging/',\n",
       " '/nbt/',\n",
       " '/nchembio/',\n",
       " '/natmachintell/',\n",
       " '/neuro/']"
      ]
     },
     "execution_count": 40,
     "metadata": {},
     "output_type": "execute_result"
    }
   ],
   "source": []
  }
 ],
 "metadata": {
  "kernelspec": {
   "display_name": "Python 3",
   "language": "python",
   "name": "python3"
  },
  "language_info": {
   "codemirror_mode": {
    "name": "ipython",
    "version": 3
   },
   "file_extension": ".py",
   "mimetype": "text/x-python",
   "name": "python",
   "nbconvert_exporter": "python",
   "pygments_lexer": "ipython3",
   "version": "3.12.1"
  }
 },
 "nbformat": 4,
 "nbformat_minor": 2
}
