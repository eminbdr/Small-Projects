{
 "cells": [
  {
   "cell_type": "code",
   "execution_count": 1,
   "metadata": {},
   "outputs": [
    {
     "name": "stdout",
     "output_type": "stream",
     "text": [
      "Scanned 19 out of 193 magazines\r"
     ]
    }
   ],
   "source": [
    "heading = '''<div style=\"border-top: 5px solid #000;\n",
    "border-bottom: 1px solid #000;\n",
    "padding-top: 8px;\n",
    "padding-bottom: 8px;\n",
    "margin-bottom: 24px;\n",
    "line-height: 1.4;\" data-test=\"title\">\n",
    "    <h2 class=\"u-ma-0\">{}</h2>\n",
    "</div>'''\n",
    "\n",
    "style = '''<head><style>\n",
    "    li.app-article-list-row__item{display:flex;border:solid}\n",
    "    div.c-card__layout.u-full-height {\n",
    "      display: flex;\n",
    "      flex-direction: row-reverse;\n",
    "    }\n",
    "    div.c-card__section.c-meta {flex: 0 0 230px;}\n",
    "  </style></head>'''\n",
    "\n",
    "import requests\n",
    "from bs4 import BeautifulSoup\n",
    "from bs4.element import Tag\n",
    "from datetime import datetime\n",
    "def write_html(date = datetime.today()):\n",
    "    class Article:\n",
    "        def __init__(self,html:Tag) -> None:\n",
    "            name_href = html.find(\"a\",{\"class\": \"c-card__link u-link-inherit\"})\n",
    "            self.name = name_href.text if name_href != None else \"\"\n",
    "            self.url = \"https://www.nature.com\"+ name_href.attrs[\"href\"] if name_href != None else \"\"\n",
    "            self.date = datetime.strptime(html.find(\"time\").attrs[\"datetime\"],'%Y-%m-%d')\n",
    "            self.magazine = html.find(\"span\",{\"class\": \"c-meta__type\"}).text\n",
    "            self.html = html\n",
    "            pass\n",
    "\n",
    "    site_indeces = \"https://www.nature.com/siteindex\"\n",
    "    site_indeces_page = requests.get(site_indeces)\n",
    "\n",
    "    soup = BeautifulSoup(site_indeces_page.content, 'html.parser')\n",
    "    journals = soup.select(\"#back-to-top > div > div.grid.grid-8.mb20.mq640-grid-12.mq640-last > div\")\n",
    "    all_magazines = [r\"https://www.nature.com\"+journal.attrs[\"href\"]+r\"research-articles\" for journal in journals[0].find_all('a')]\n",
    "    articles_by_mags = {}\n",
    "    len_maga = len(all_magazines)\n",
    "    failed = []\n",
    "    for num,magazine in enumerate(all_magazines):\n",
    "        try:\n",
    "            mag_soup = BeautifulSoup(requests.get(magazine).content, 'html.parser')\n",
    "            articles_page = mag_soup.find_all(\"li\",{\"class\": \"app-article-list-row__item\"})\n",
    "            articles = [Article(article) for article in articles_page]\n",
    "            articles_by_mags.update({magazine.split(\"/\")[-2]: articles})\n",
    "            print(f\"Scanned {num+1} out of {len_maga} magazines\",end=\"\\r\")\n",
    "        except:\n",
    "            print(f\"Error with {magazine}\")\n",
    "            failed.append(magazine)\n",
    "            pass\n",
    "\n",
    "\n",
    "\n",
    "    with open(\"index.html\",\"w+\",encoding=\"utf-8\") as file:\n",
    "        file.write(\"\")\n",
    "    with open(\"index.html\",\"a+\",encoding=\"utf-8\") as file:\n",
    "        file.write(\"<html>\")\n",
    "        file.write(style)\n",
    "        file.write(\"<body>\")\n",
    "        len_mag = len(articles_by_mags.items())\n",
    "        for num,(mag, articles) in enumerate(articles_by_mags.items()):\n",
    "            file.write(heading.format(mag))\n",
    "            for num,article in enumerate(articles):\n",
    "                if article.date.date() >= date.date():\n",
    "                    file.write(str(article.html))\n",
    "                    file.write(f\"<a href='{article.url}'>Link</a>\")\n",
    "                    file.write(\"<br>\")\n",
    "                else:\n",
    "                    file.write(\"<br>\")\n",
    "                    break\n",
    "                file.write(\"<br>\")\n",
    "            file.write(\"<br>\")\n",
    "            print(f\"Written {num} out of {len_mag}\",end=\"\\r\")\n",
    "        file.write(\"<br>\")\n",
    "        file.write(\"</body></html>\")\n",
    "write_html()"
   ]
  },
  {
   "cell_type": "code",
   "execution_count": 36,
   "metadata": {},
   "outputs": [
    {
     "data": {
      "text/plain": [
       "<Response [200]>"
      ]
     },
     "execution_count": 36,
     "metadata": {},
     "output_type": "execute_result"
    }
   ],
   "source": [
    "requests.get(\"https://www.nature.com/npjpcrm/research-articles\")"
   ]
  }
 ],
 "metadata": {
  "kernelspec": {
   "display_name": "Python 3",
   "language": "python",
   "name": "python3"
  },
  "language_info": {
   "codemirror_mode": {
    "name": "ipython",
    "version": 3
   },
   "file_extension": ".py",
   "mimetype": "text/x-python",
   "name": "python",
   "nbconvert_exporter": "python",
   "pygments_lexer": "ipython3",
   "version": "3.12.1"
  }
 },
 "nbformat": 4,
 "nbformat_minor": 2
}
